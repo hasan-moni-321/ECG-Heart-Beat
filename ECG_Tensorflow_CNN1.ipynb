{
 "cells": [
  {
   "cell_type": "code",
   "execution_count": 1,
   "metadata": {},
   "outputs": [],
   "source": [
    "import numpy as np\n",
    "import pandas as pd\n",
    "import seaborn as sns\n",
    "import matplotlib.pyplot as plt\n",
    "\n",
    "from sklearn.metrics import classification_report, confusion_matrix, f1_score\n",
    "from sklearn.model_selection import train_test_split\n",
    "from sklearn.utils import class_weight, resample\n",
    "from sklearn.preprocessing import MinMaxScaler, StandardScaler\n",
    "from sklearn.metrics import classification_report, confusion_matrix, roc_curve, roc_auc_score\n",
    "\n",
    "import tensorflow\n",
    "from tensorflow.keras.utils import to_categorical\n",
    "from tensorflow.keras.models import Sequential\n",
    "from tensorflow.keras.layers import Conv1D, LeakyReLU,Dropout, MaxPooling1D, MaxPool1D, Flatten, Dense \n",
    "from tensorflow.keras.callbacks import EarlyStopping, LearningRateScheduler, ModelCheckpoint\n",
    "\n",
    "from hyperas.distributions import choice, uniform\n",
    "\n",
    "import warnings\n",
    "warnings.filterwarnings('ignore')"
   ]
  },
  {
   "cell_type": "code",
   "execution_count": 2,
   "metadata": {},
   "outputs": [],
   "source": [
    "train = pd.read_csv(\"/home/hasan/Data Set/heart beat classification/archive(2)/mitbih_train.csv\", header=None)\n",
    "test = pd.read_csv(\"/home/hasan/Data Set/heart beat classification/archive(2)/mitbih_test.csv\", header=None)\n",
    "\n",
    "normal = pd.read_csv(\"/home/hasan/Data Set/heart beat classification/archive(2)/ptbdb_normal.csv\", header=None)\n",
    "abnormal = pd.read_csv(\"/home/hasan/Data Set/heart beat classification/archive(2)/ptbdb_abnormal.csv\", header=None)\n"
   ]
  },
  {
   "cell_type": "code",
   "execution_count": 3,
   "metadata": {},
   "outputs": [
    {
     "name": "stdout",
     "output_type": "stream",
     "text": [
      "(87554, 188) (21892, 188) (4046, 188) (10506, 188)\n"
     ]
    }
   ],
   "source": [
    "# Shape of every dataset\n",
    "print(train.shape, test.shape, normal.shape, abnormal.shape)"
   ]
  },
  {
   "cell_type": "code",
   "execution_count": 4,
   "metadata": {},
   "outputs": [
    {
     "data": {
      "text/html": [
       "<div>\n",
       "<style scoped>\n",
       "    .dataframe tbody tr th:only-of-type {\n",
       "        vertical-align: middle;\n",
       "    }\n",
       "\n",
       "    .dataframe tbody tr th {\n",
       "        vertical-align: top;\n",
       "    }\n",
       "\n",
       "    .dataframe thead th {\n",
       "        text-align: right;\n",
       "    }\n",
       "</style>\n",
       "<table border=\"1\" class=\"dataframe\">\n",
       "  <thead>\n",
       "    <tr style=\"text-align: right;\">\n",
       "      <th></th>\n",
       "      <th>0</th>\n",
       "      <th>1</th>\n",
       "      <th>2</th>\n",
       "      <th>3</th>\n",
       "      <th>4</th>\n",
       "      <th>5</th>\n",
       "      <th>6</th>\n",
       "      <th>7</th>\n",
       "      <th>8</th>\n",
       "      <th>9</th>\n",
       "      <th>...</th>\n",
       "      <th>178</th>\n",
       "      <th>179</th>\n",
       "      <th>180</th>\n",
       "      <th>181</th>\n",
       "      <th>182</th>\n",
       "      <th>183</th>\n",
       "      <th>184</th>\n",
       "      <th>185</th>\n",
       "      <th>186</th>\n",
       "      <th>187</th>\n",
       "    </tr>\n",
       "  </thead>\n",
       "  <tbody>\n",
       "    <tr>\n",
       "      <th>0</th>\n",
       "      <td>0.977941</td>\n",
       "      <td>0.926471</td>\n",
       "      <td>0.681373</td>\n",
       "      <td>0.245098</td>\n",
       "      <td>0.154412</td>\n",
       "      <td>0.191176</td>\n",
       "      <td>0.151961</td>\n",
       "      <td>0.085784</td>\n",
       "      <td>0.058824</td>\n",
       "      <td>0.049020</td>\n",
       "      <td>...</td>\n",
       "      <td>0.0</td>\n",
       "      <td>0.0</td>\n",
       "      <td>0.0</td>\n",
       "      <td>0.0</td>\n",
       "      <td>0.0</td>\n",
       "      <td>0.0</td>\n",
       "      <td>0.0</td>\n",
       "      <td>0.0</td>\n",
       "      <td>0.0</td>\n",
       "      <td>0.0</td>\n",
       "    </tr>\n",
       "    <tr>\n",
       "      <th>1</th>\n",
       "      <td>0.960114</td>\n",
       "      <td>0.863248</td>\n",
       "      <td>0.461538</td>\n",
       "      <td>0.196581</td>\n",
       "      <td>0.094017</td>\n",
       "      <td>0.125356</td>\n",
       "      <td>0.099715</td>\n",
       "      <td>0.088319</td>\n",
       "      <td>0.074074</td>\n",
       "      <td>0.082621</td>\n",
       "      <td>...</td>\n",
       "      <td>0.0</td>\n",
       "      <td>0.0</td>\n",
       "      <td>0.0</td>\n",
       "      <td>0.0</td>\n",
       "      <td>0.0</td>\n",
       "      <td>0.0</td>\n",
       "      <td>0.0</td>\n",
       "      <td>0.0</td>\n",
       "      <td>0.0</td>\n",
       "      <td>0.0</td>\n",
       "    </tr>\n",
       "    <tr>\n",
       "      <th>2</th>\n",
       "      <td>1.000000</td>\n",
       "      <td>0.659459</td>\n",
       "      <td>0.186486</td>\n",
       "      <td>0.070270</td>\n",
       "      <td>0.070270</td>\n",
       "      <td>0.059459</td>\n",
       "      <td>0.056757</td>\n",
       "      <td>0.043243</td>\n",
       "      <td>0.054054</td>\n",
       "      <td>0.045946</td>\n",
       "      <td>...</td>\n",
       "      <td>0.0</td>\n",
       "      <td>0.0</td>\n",
       "      <td>0.0</td>\n",
       "      <td>0.0</td>\n",
       "      <td>0.0</td>\n",
       "      <td>0.0</td>\n",
       "      <td>0.0</td>\n",
       "      <td>0.0</td>\n",
       "      <td>0.0</td>\n",
       "      <td>0.0</td>\n",
       "    </tr>\n",
       "    <tr>\n",
       "      <th>3</th>\n",
       "      <td>0.925414</td>\n",
       "      <td>0.665746</td>\n",
       "      <td>0.541436</td>\n",
       "      <td>0.276243</td>\n",
       "      <td>0.196133</td>\n",
       "      <td>0.077348</td>\n",
       "      <td>0.071823</td>\n",
       "      <td>0.060773</td>\n",
       "      <td>0.066298</td>\n",
       "      <td>0.058011</td>\n",
       "      <td>...</td>\n",
       "      <td>0.0</td>\n",
       "      <td>0.0</td>\n",
       "      <td>0.0</td>\n",
       "      <td>0.0</td>\n",
       "      <td>0.0</td>\n",
       "      <td>0.0</td>\n",
       "      <td>0.0</td>\n",
       "      <td>0.0</td>\n",
       "      <td>0.0</td>\n",
       "      <td>0.0</td>\n",
       "    </tr>\n",
       "    <tr>\n",
       "      <th>4</th>\n",
       "      <td>0.967136</td>\n",
       "      <td>1.000000</td>\n",
       "      <td>0.830986</td>\n",
       "      <td>0.586854</td>\n",
       "      <td>0.356808</td>\n",
       "      <td>0.248826</td>\n",
       "      <td>0.145540</td>\n",
       "      <td>0.089202</td>\n",
       "      <td>0.117371</td>\n",
       "      <td>0.150235</td>\n",
       "      <td>...</td>\n",
       "      <td>0.0</td>\n",
       "      <td>0.0</td>\n",
       "      <td>0.0</td>\n",
       "      <td>0.0</td>\n",
       "      <td>0.0</td>\n",
       "      <td>0.0</td>\n",
       "      <td>0.0</td>\n",
       "      <td>0.0</td>\n",
       "      <td>0.0</td>\n",
       "      <td>0.0</td>\n",
       "    </tr>\n",
       "  </tbody>\n",
       "</table>\n",
       "<p>5 rows × 188 columns</p>\n",
       "</div>"
      ],
      "text/plain": [
       "        0         1         2         3         4         5         6    \\\n",
       "0  0.977941  0.926471  0.681373  0.245098  0.154412  0.191176  0.151961   \n",
       "1  0.960114  0.863248  0.461538  0.196581  0.094017  0.125356  0.099715   \n",
       "2  1.000000  0.659459  0.186486  0.070270  0.070270  0.059459  0.056757   \n",
       "3  0.925414  0.665746  0.541436  0.276243  0.196133  0.077348  0.071823   \n",
       "4  0.967136  1.000000  0.830986  0.586854  0.356808  0.248826  0.145540   \n",
       "\n",
       "        7         8         9    ...  178  179  180  181  182  183  184  185  \\\n",
       "0  0.085784  0.058824  0.049020  ...  0.0  0.0  0.0  0.0  0.0  0.0  0.0  0.0   \n",
       "1  0.088319  0.074074  0.082621  ...  0.0  0.0  0.0  0.0  0.0  0.0  0.0  0.0   \n",
       "2  0.043243  0.054054  0.045946  ...  0.0  0.0  0.0  0.0  0.0  0.0  0.0  0.0   \n",
       "3  0.060773  0.066298  0.058011  ...  0.0  0.0  0.0  0.0  0.0  0.0  0.0  0.0   \n",
       "4  0.089202  0.117371  0.150235  ...  0.0  0.0  0.0  0.0  0.0  0.0  0.0  0.0   \n",
       "\n",
       "   186  187  \n",
       "0  0.0  0.0  \n",
       "1  0.0  0.0  \n",
       "2  0.0  0.0  \n",
       "3  0.0  0.0  \n",
       "4  0.0  0.0  \n",
       "\n",
       "[5 rows x 188 columns]"
      ]
     },
     "execution_count": 4,
     "metadata": {},
     "output_type": "execute_result"
    }
   ],
   "source": [
    "train.head()"
   ]
  },
  {
   "cell_type": "code",
   "execution_count": 5,
   "metadata": {},
   "outputs": [],
   "source": [
    "# From float to int of label column \n",
    "train[187] = train[187].astype(int)\n",
    "test[187] = test[187].astype(int)\n",
    "normal[187] = normal[187].astype(int)\n",
    "abnormal[187] = abnormal[187].astype(int)\n"
   ]
  },
  {
   "cell_type": "code",
   "execution_count": 6,
   "metadata": {},
   "outputs": [],
   "source": [
    "# counting the class label \n",
    "train_label_count = train[187].value_counts()\n",
    "test_label_count = test[187].value_counts()\n",
    "normal_label_count = normal[187].value_counts()\n",
    "abnormal_label_count = abnormal[187].value_counts()"
   ]
  },
  {
   "cell_type": "code",
   "execution_count": 7,
   "metadata": {},
   "outputs": [
    {
     "data": {
      "text/plain": [
       "0    72471\n",
       "4     6431\n",
       "2     5788\n",
       "1     2223\n",
       "3      641\n",
       "Name: 187, dtype: int64"
      ]
     },
     "execution_count": 7,
     "metadata": {},
     "output_type": "execute_result"
    }
   ],
   "source": [
    "# counting every class of train dataset \n",
    "train_label_count"
   ]
  },
  {
   "cell_type": "code",
   "execution_count": 8,
   "metadata": {},
   "outputs": [
    {
     "data": {
      "text/plain": [
       "<AxesSubplot:>"
      ]
     },
     "execution_count": 8,
     "metadata": {},
     "output_type": "execute_result"
    },
    {
     "data": {
      "image/png": "[encoded data removed]",
      "text/plain": [
       "<Figure size 432x288 with 1 Axes>"
      ]
     },
     "metadata": {
      "needs_background": "light"
     },
     "output_type": "display_data"
    }
   ],
   "source": [
    "sns.barplot(x = train_label_count.index, y=train_label_count.values)"
   ]
  },
  {
   "cell_type": "markdown",
   "metadata": {},
   "source": [
    "It is clear that the train-dataset is totally unlevel "
   ]
  },
  {
   "cell_type": "code",
   "execution_count": 9,
   "metadata": {},
   "outputs": [
    {
     "data": {
      "text/plain": [
       "<AxesSubplot:>"
      ]
     },
     "execution_count": 9,
     "metadata": {},
     "output_type": "execute_result"
    },
    {
     "data": {
      "image/png": "[encoded data removed]",
      "text/plain": [
       "<Figure size 432x288 with 1 Axes>"
      ]
     },
     "metadata": {
      "needs_background": "light"
     },
     "output_type": "display_data"
    }
   ],
   "source": [
    "sns.barplot(x = test_label_count.index, y=test_label_count.values)"
   ]
  },
  {
   "cell_type": "code",
   "execution_count": 10,
   "metadata": {},
   "outputs": [
    {
     "data": {
      "text/plain": [
       "<AxesSubplot:>"
      ]
     },
     "execution_count": 10,
     "metadata": {},
     "output_type": "execute_result"
    },
    {
     "data": {
      "image/png": "[encoded data removed]",
      "text/plain": [
       "<Figure size 432x288 with 1 Axes>"
      ]
     },
     "metadata": {
      "needs_background": "light"
     },
     "output_type": "display_data"
    }
   ],
   "source": [
    "sns.barplot(x = normal_label_count.index, y=normal_label_count.values)"
   ]
  },
  {
   "cell_type": "code",
   "execution_count": 11,
   "metadata": {},
   "outputs": [
    {
     "data": {
      "text/plain": [
       "<AxesSubplot:>"
      ]
     },
     "execution_count": 11,
     "metadata": {},
     "output_type": "execute_result"
    },
    {
     "data": {
      "image/png": "[encoded data removed]",
      "text/plain": [
       "<Figure size 432x288 with 1 Axes>"
      ]
     },
     "metadata": {
      "needs_background": "light"
     },
     "output_type": "display_data"
    }
   ],
   "source": [
    "sns.barplot(x = abnormal_label_count.index, y=abnormal_label_count.values)"
   ]
  },
  {
   "cell_type": "code",
   "execution_count": null,
   "metadata": {},
   "outputs": [],
   "source": []
  },
  {
   "cell_type": "markdown",
   "metadata": {},
   "source": [
    "# Fixing unlabel problem of train"
   ]
  },
  {
   "cell_type": "markdown",
   "metadata": {},
   "source": [
    "### Technique 1"
   ]
  },
  {
   "cell_type": "code",
   "execution_count": 12,
   "metadata": {},
   "outputs": [],
   "source": [
    "df1 = train[train[187]==1]\n",
    "df2 = train[train[187]==2]\n",
    "df3 = train[train[187]==3]\n",
    "df4 = train[train[187]==4]"
   ]
  },
  {
   "cell_type": "code",
   "execution_count": 13,
   "metadata": {},
   "outputs": [],
   "source": [
    "df0 = train[train[187]==0].sample(n=30000, random_state=42)\n",
    "df1 = resample(df1, replace=True, n_samples=30000, random_state=123)\n",
    "df2 = resample(df2, replace=True, n_samples=30000, random_state=123)\n",
    "df3 = resample(df3, replace=True, n_samples=30000, random_state=123)\n",
    "df4 = resample(df4, replace=True, n_samples=30000, random_state=123)"
   ]
  },
  {
   "cell_type": "code",
   "execution_count": 14,
   "metadata": {},
   "outputs": [],
   "source": [
    "train_df = pd.concat([df0, df1, df2, df3, df4], ignore_index=True)"
   ]
  },
  {
   "cell_type": "markdown",
   "metadata": {},
   "source": [
    "I am not going to use this technique because there are lots of duplicated data. Those duplicated data will created bad decision during testing"
   ]
  },
  {
   "cell_type": "code",
   "execution_count": 15,
   "metadata": {},
   "outputs": [
    {
     "data": {
      "text/plain": [
       "(150000, 188)"
      ]
     },
     "execution_count": 15,
     "metadata": {},
     "output_type": "execute_result"
    }
   ],
   "source": [
    "train_df.shape"
   ]
  },
  {
   "cell_type": "code",
   "execution_count": 16,
   "metadata": {},
   "outputs": [
    {
     "data": {
      "text/plain": [
       "104997"
      ]
     },
     "execution_count": 16,
     "metadata": {},
     "output_type": "execute_result"
    }
   ],
   "source": [
    "# Checking duplicate data\n",
    "train_df.duplicated().sum()"
   ]
  },
  {
   "cell_type": "code",
   "execution_count": null,
   "metadata": {},
   "outputs": [],
   "source": []
  },
  {
   "cell_type": "markdown",
   "metadata": {},
   "source": [
    "### Technique 2"
   ]
  },
  {
   "cell_type": "code",
   "execution_count": 17,
   "metadata": {},
   "outputs": [],
   "source": [
    "df0 = train[train[187]==0].sample(n=800, random_state=42)\n",
    "df1 = train[train[187]==1].sample(n=800, random_state=42)\n",
    "df2 = train[train[187]==2].sample(n=800, random_state=42)\n",
    "df3 = train[train[187]==3].sample(n=641, random_state=42)\n",
    "df4 = train[train[187]==4].sample(n=800, random_state=42)"
   ]
  },
  {
   "cell_type": "code",
   "execution_count": 18,
   "metadata": {},
   "outputs": [],
   "source": [
    "train_new = pd.concat([df0, df1, df2, df3, df4], ignore_index=True)"
   ]
  },
  {
   "cell_type": "code",
   "execution_count": 19,
   "metadata": {},
   "outputs": [
    {
     "data": {
      "text/plain": [
       "(3841, 188)"
      ]
     },
     "execution_count": 19,
     "metadata": {},
     "output_type": "execute_result"
    }
   ],
   "source": [
    "# Shape of the dataset \n",
    "train_new.shape"
   ]
  },
  {
   "cell_type": "code",
   "execution_count": 20,
   "metadata": {},
   "outputs": [
    {
     "data": {
      "text/plain": [
       "0"
      ]
     },
     "execution_count": 20,
     "metadata": {},
     "output_type": "execute_result"
    }
   ],
   "source": [
    "# Checking duplicated\n",
    "train_new.duplicated().sum()"
   ]
  },
  {
   "cell_type": "code",
   "execution_count": 21,
   "metadata": {},
   "outputs": [
    {
     "data": {
      "text/plain": [
       "1    800\n",
       "4    800\n",
       "2    800\n",
       "0    800\n",
       "3    641\n",
       "Name: 187, dtype: int64"
      ]
     },
     "execution_count": 21,
     "metadata": {},
     "output_type": "execute_result"
    }
   ],
   "source": [
    "train_new.iloc[:, -1].value_counts()"
   ]
  },
  {
   "cell_type": "code",
   "execution_count": null,
   "metadata": {},
   "outputs": [],
   "source": []
  },
  {
   "cell_type": "markdown",
   "metadata": {},
   "source": [
    "# Some Visualization"
   ]
  },
  {
   "cell_type": "code",
   "execution_count": 22,
   "metadata": {},
   "outputs": [
    {
     "data": {
      "text/html": [
       "<div>\n",
       "<style scoped>\n",
       "    .dataframe tbody tr th:only-of-type {\n",
       "        vertical-align: middle;\n",
       "    }\n",
       "\n",
       "    .dataframe tbody tr th {\n",
       "        vertical-align: top;\n",
       "    }\n",
       "\n",
       "    .dataframe thead th {\n",
       "        text-align: right;\n",
       "    }\n",
       "</style>\n",
       "<table border=\"1\" class=\"dataframe\">\n",
       "  <thead>\n",
       "    <tr style=\"text-align: right;\">\n",
       "      <th></th>\n",
       "      <th>0</th>\n",
       "      <th>1</th>\n",
       "      <th>2</th>\n",
       "      <th>3</th>\n",
       "      <th>4</th>\n",
       "      <th>5</th>\n",
       "      <th>6</th>\n",
       "      <th>7</th>\n",
       "      <th>8</th>\n",
       "      <th>9</th>\n",
       "      <th>...</th>\n",
       "      <th>178</th>\n",
       "      <th>179</th>\n",
       "      <th>180</th>\n",
       "      <th>181</th>\n",
       "      <th>182</th>\n",
       "      <th>183</th>\n",
       "      <th>184</th>\n",
       "      <th>185</th>\n",
       "      <th>186</th>\n",
       "      <th>187</th>\n",
       "    </tr>\n",
       "  </thead>\n",
       "  <tbody>\n",
       "    <tr>\n",
       "      <th>0</th>\n",
       "      <td>0.162791</td>\n",
       "      <td>0.540698</td>\n",
       "      <td>0.755814</td>\n",
       "      <td>0.186047</td>\n",
       "      <td>0.168605</td>\n",
       "      <td>0.546512</td>\n",
       "      <td>0.616279</td>\n",
       "      <td>0.697674</td>\n",
       "      <td>0.651163</td>\n",
       "      <td>0.703488</td>\n",
       "      <td>...</td>\n",
       "      <td>0.0</td>\n",
       "      <td>0.0</td>\n",
       "      <td>0.0</td>\n",
       "      <td>0.0</td>\n",
       "      <td>0.0</td>\n",
       "      <td>0.0</td>\n",
       "      <td>0.0</td>\n",
       "      <td>0.0</td>\n",
       "      <td>0.0</td>\n",
       "      <td>0</td>\n",
       "    </tr>\n",
       "    <tr>\n",
       "      <th>1</th>\n",
       "      <td>0.990066</td>\n",
       "      <td>0.938742</td>\n",
       "      <td>0.344371</td>\n",
       "      <td>0.034768</td>\n",
       "      <td>0.273179</td>\n",
       "      <td>0.331126</td>\n",
       "      <td>0.326159</td>\n",
       "      <td>0.341060</td>\n",
       "      <td>0.347682</td>\n",
       "      <td>0.347682</td>\n",
       "      <td>...</td>\n",
       "      <td>0.0</td>\n",
       "      <td>0.0</td>\n",
       "      <td>0.0</td>\n",
       "      <td>0.0</td>\n",
       "      <td>0.0</td>\n",
       "      <td>0.0</td>\n",
       "      <td>0.0</td>\n",
       "      <td>0.0</td>\n",
       "      <td>0.0</td>\n",
       "      <td>0</td>\n",
       "    </tr>\n",
       "    <tr>\n",
       "      <th>2</th>\n",
       "      <td>0.974239</td>\n",
       "      <td>0.932084</td>\n",
       "      <td>0.590164</td>\n",
       "      <td>0.131148</td>\n",
       "      <td>0.014052</td>\n",
       "      <td>0.168618</td>\n",
       "      <td>0.238876</td>\n",
       "      <td>0.210773</td>\n",
       "      <td>0.196721</td>\n",
       "      <td>0.208431</td>\n",
       "      <td>...</td>\n",
       "      <td>0.0</td>\n",
       "      <td>0.0</td>\n",
       "      <td>0.0</td>\n",
       "      <td>0.0</td>\n",
       "      <td>0.0</td>\n",
       "      <td>0.0</td>\n",
       "      <td>0.0</td>\n",
       "      <td>0.0</td>\n",
       "      <td>0.0</td>\n",
       "      <td>0</td>\n",
       "    </tr>\n",
       "  </tbody>\n",
       "</table>\n",
       "<p>3 rows × 188 columns</p>\n",
       "</div>"
      ],
      "text/plain": [
       "        0         1         2         3         4         5         6    \\\n",
       "0  0.162791  0.540698  0.755814  0.186047  0.168605  0.546512  0.616279   \n",
       "1  0.990066  0.938742  0.344371  0.034768  0.273179  0.331126  0.326159   \n",
       "2  0.974239  0.932084  0.590164  0.131148  0.014052  0.168618  0.238876   \n",
       "\n",
       "        7         8         9    ...  178  179  180  181  182  183  184  185  \\\n",
       "0  0.697674  0.651163  0.703488  ...  0.0  0.0  0.0  0.0  0.0  0.0  0.0  0.0   \n",
       "1  0.341060  0.347682  0.347682  ...  0.0  0.0  0.0  0.0  0.0  0.0  0.0  0.0   \n",
       "2  0.210773  0.196721  0.208431  ...  0.0  0.0  0.0  0.0  0.0  0.0  0.0  0.0   \n",
       "\n",
       "   186  187  \n",
       "0  0.0    0  \n",
       "1  0.0    0  \n",
       "2  0.0    0  \n",
       "\n",
       "[3 rows x 188 columns]"
      ]
     },
     "execution_count": 22,
     "metadata": {},
     "output_type": "execute_result"
    }
   ],
   "source": [
    "train_new.head(3)"
   ]
  },
  {
   "cell_type": "code",
   "execution_count": 23,
   "metadata": {},
   "outputs": [
    {
     "data": {
      "text/plain": [
       "Text(0.5, 1.0, 'ECG Normal')"
      ]
     },
     "execution_count": 23,
     "metadata": {},
     "output_type": "execute_result"
    },
    {
     "data": {
      "image/png": "[encoded data removed]",
      "text/plain": [
       "<Figure size 432x288 with 1 Axes>"
      ]
     },
     "metadata": {
      "needs_background": "light"
     },
     "output_type": "display_data"
    }
   ],
   "source": [
    "# Some data visualization where label=0\n",
    "df0 = train_new[train_new[187]==0].head(3)\n",
    "plt.plot(df0.iloc[0, :186], label='0', color='red')\n",
    "plt.plot(df0.iloc[1, :186], label='0', color='green')\n",
    "plt.plot(df0.iloc[2, :186], label='0', color='black')\n",
    "plt.legend()\n",
    "plt.title(\"ECG Normal\")"
   ]
  },
  {
   "cell_type": "code",
   "execution_count": 24,
   "metadata": {},
   "outputs": [
    {
     "data": {
      "text/plain": [
       "Text(0.5, 1.0, 'ECG Artial Premature')"
      ]
     },
     "execution_count": 24,
     "metadata": {},
     "output_type": "execute_result"
    },
    {
     "data": {
      "image/png": "[encoded data removed]",
      "text/plain": [
       "<Figure size 432x288 with 1 Axes>"
      ]
     },
     "metadata": {
      "needs_background": "light"
     },
     "output_type": "display_data"
    }
   ],
   "source": [
    "# Some data visualization where label=1\n",
    "df1 = train_new[train_new[187]==1].head(3)\n",
    "plt.plot(df1.iloc[0, :186], label='1', color='red')\n",
    "plt.plot(df1.iloc[1, :186], label='1', color='green')\n",
    "plt.plot(df1.iloc[2, :186], label='1', color='black')\n",
    "plt.legend()\n",
    "plt.title(\"ECG Artial Premature\")"
   ]
  },
  {
   "cell_type": "code",
   "execution_count": 25,
   "metadata": {},
   "outputs": [
    {
     "data": {
      "text/plain": [
       "Text(0.5, 1.0, 'ECG Premature ventricular contraction')"
      ]
     },
     "execution_count": 25,
     "metadata": {},
     "output_type": "execute_result"
    },
    {
     "data": {
      "image/png": "[encoded data removed]",
      "text/plain": [
       "<Figure size 432x288 with 1 Axes>"
      ]
     },
     "metadata": {
      "needs_background": "light"
     },
     "output_type": "display_data"
    }
   ],
   "source": [
    "# Some data visualization where label=2\n",
    "df2 = train_new[train_new[187]==2].head(3)\n",
    "plt.plot(df2.iloc[0, :186], label='2', color='red')\n",
    "plt.plot(df2.iloc[1, :186], label='2', color='green')\n",
    "plt.plot(df2.iloc[2, :186], label='2', color='black')\n",
    "plt.legend()\n",
    "plt.title(\"ECG Premature ventricular contraction\")"
   ]
  },
  {
   "cell_type": "code",
   "execution_count": 26,
   "metadata": {},
   "outputs": [
    {
     "data": {
      "text/plain": [
       "Text(0.5, 1.0, 'ECG Fusion of ventricular and normal')"
      ]
     },
     "execution_count": 26,
     "metadata": {},
     "output_type": "execute_result"
    },
    {
     "data": {
      "image/png": "[encoded data removed]",
      "text/plain": [
       "<Figure size 432x288 with 1 Axes>"
      ]
     },
     "metadata": {
      "needs_background": "light"
     },
     "output_type": "display_data"
    }
   ],
   "source": [
    "# Some data visualization where label=3\n",
    "df3 = train_new[train_new[187]==3].head(3)\n",
    "plt.plot(df3.iloc[0, :186], label='3', color='red')\n",
    "plt.plot(df3.iloc[1, :186], label='3', color='green')\n",
    "plt.plot(df3.iloc[2, :186], label='3', color='black')\n",
    "plt.legend()\n",
    "plt.title(\"ECG Fusion of ventricular and normal\")"
   ]
  },
  {
   "cell_type": "code",
   "execution_count": 27,
   "metadata": {},
   "outputs": [
    {
     "data": {
      "text/plain": [
       "Text(0.5, 1.0, 'ECG Fusion of paced and normal')"
      ]
     },
     "execution_count": 27,
     "metadata": {},
     "output_type": "execute_result"
    },
    {
     "data": {
      "image/png": "[encoded data removed]",
      "text/plain": [
       "<Figure size 432x288 with 1 Axes>"
      ]
     },
     "metadata": {
      "needs_background": "light"
     },
     "output_type": "display_data"
    }
   ],
   "source": [
    "# Some data visualization where label=4\n",
    "df4 = train_new[train_new[187]==4].head(3)\n",
    "plt.plot(df4.iloc[0, :186], label='4', color='red')\n",
    "plt.plot(df4.iloc[1, :186], label='4', color='green')\n",
    "plt.plot(df4.iloc[2, :186], label='4', color='black')\n",
    "plt.legend()\n",
    "plt.title(\"ECG Fusion of paced and normal\")"
   ]
  },
  {
   "cell_type": "code",
   "execution_count": null,
   "metadata": {},
   "outputs": [],
   "source": []
  },
  {
   "cell_type": "code",
   "execution_count": 28,
   "metadata": {},
   "outputs": [
    {
     "data": {
      "text/html": [
       "<div>\n",
       "<style scoped>\n",
       "    .dataframe tbody tr th:only-of-type {\n",
       "        vertical-align: middle;\n",
       "    }\n",
       "\n",
       "    .dataframe tbody tr th {\n",
       "        vertical-align: top;\n",
       "    }\n",
       "\n",
       "    .dataframe thead th {\n",
       "        text-align: right;\n",
       "    }\n",
       "</style>\n",
       "<table border=\"1\" class=\"dataframe\">\n",
       "  <thead>\n",
       "    <tr style=\"text-align: right;\">\n",
       "      <th></th>\n",
       "      <th>0</th>\n",
       "      <th>1</th>\n",
       "      <th>2</th>\n",
       "      <th>3</th>\n",
       "      <th>4</th>\n",
       "      <th>5</th>\n",
       "      <th>6</th>\n",
       "      <th>7</th>\n",
       "      <th>8</th>\n",
       "      <th>9</th>\n",
       "      <th>...</th>\n",
       "      <th>178</th>\n",
       "      <th>179</th>\n",
       "      <th>180</th>\n",
       "      <th>181</th>\n",
       "      <th>182</th>\n",
       "      <th>183</th>\n",
       "      <th>184</th>\n",
       "      <th>185</th>\n",
       "      <th>186</th>\n",
       "      <th>187</th>\n",
       "    </tr>\n",
       "  </thead>\n",
       "  <tbody>\n",
       "    <tr>\n",
       "      <th>388</th>\n",
       "      <td>1.000000</td>\n",
       "      <td>0.839590</td>\n",
       "      <td>0.261092</td>\n",
       "      <td>0.010239</td>\n",
       "      <td>0.155290</td>\n",
       "      <td>0.230375</td>\n",
       "      <td>0.247440</td>\n",
       "      <td>0.271331</td>\n",
       "      <td>0.284983</td>\n",
       "      <td>0.273038</td>\n",
       "      <td>...</td>\n",
       "      <td>0.0</td>\n",
       "      <td>0.0</td>\n",
       "      <td>0.0</td>\n",
       "      <td>0.0</td>\n",
       "      <td>0.0</td>\n",
       "      <td>0.0</td>\n",
       "      <td>0.0</td>\n",
       "      <td>0.0</td>\n",
       "      <td>0.0</td>\n",
       "      <td>0</td>\n",
       "    </tr>\n",
       "    <tr>\n",
       "      <th>898</th>\n",
       "      <td>0.816547</td>\n",
       "      <td>0.381295</td>\n",
       "      <td>0.089928</td>\n",
       "      <td>0.212230</td>\n",
       "      <td>0.219424</td>\n",
       "      <td>0.219424</td>\n",
       "      <td>0.208633</td>\n",
       "      <td>0.212230</td>\n",
       "      <td>0.205036</td>\n",
       "      <td>0.223022</td>\n",
       "      <td>...</td>\n",
       "      <td>0.0</td>\n",
       "      <td>0.0</td>\n",
       "      <td>0.0</td>\n",
       "      <td>0.0</td>\n",
       "      <td>0.0</td>\n",
       "      <td>0.0</td>\n",
       "      <td>0.0</td>\n",
       "      <td>0.0</td>\n",
       "      <td>0.0</td>\n",
       "      <td>1</td>\n",
       "    </tr>\n",
       "    <tr>\n",
       "      <th>2229</th>\n",
       "      <td>0.000000</td>\n",
       "      <td>0.005398</td>\n",
       "      <td>0.175439</td>\n",
       "      <td>0.425101</td>\n",
       "      <td>0.565452</td>\n",
       "      <td>0.542510</td>\n",
       "      <td>0.550607</td>\n",
       "      <td>0.631579</td>\n",
       "      <td>0.663968</td>\n",
       "      <td>0.647773</td>\n",
       "      <td>...</td>\n",
       "      <td>0.0</td>\n",
       "      <td>0.0</td>\n",
       "      <td>0.0</td>\n",
       "      <td>0.0</td>\n",
       "      <td>0.0</td>\n",
       "      <td>0.0</td>\n",
       "      <td>0.0</td>\n",
       "      <td>0.0</td>\n",
       "      <td>0.0</td>\n",
       "      <td>2</td>\n",
       "    </tr>\n",
       "    <tr>\n",
       "      <th>2543</th>\n",
       "      <td>1.000000</td>\n",
       "      <td>0.782934</td>\n",
       "      <td>0.532934</td>\n",
       "      <td>0.264970</td>\n",
       "      <td>0.094311</td>\n",
       "      <td>0.109281</td>\n",
       "      <td>0.104790</td>\n",
       "      <td>0.076347</td>\n",
       "      <td>0.064371</td>\n",
       "      <td>0.052395</td>\n",
       "      <td>...</td>\n",
       "      <td>0.0</td>\n",
       "      <td>0.0</td>\n",
       "      <td>0.0</td>\n",
       "      <td>0.0</td>\n",
       "      <td>0.0</td>\n",
       "      <td>0.0</td>\n",
       "      <td>0.0</td>\n",
       "      <td>0.0</td>\n",
       "      <td>0.0</td>\n",
       "      <td>3</td>\n",
       "    </tr>\n",
       "    <tr>\n",
       "      <th>3168</th>\n",
       "      <td>1.000000</td>\n",
       "      <td>0.813953</td>\n",
       "      <td>0.465116</td>\n",
       "      <td>0.182724</td>\n",
       "      <td>0.056478</td>\n",
       "      <td>0.073090</td>\n",
       "      <td>0.073090</td>\n",
       "      <td>0.076412</td>\n",
       "      <td>0.076412</td>\n",
       "      <td>0.076412</td>\n",
       "      <td>...</td>\n",
       "      <td>0.0</td>\n",
       "      <td>0.0</td>\n",
       "      <td>0.0</td>\n",
       "      <td>0.0</td>\n",
       "      <td>0.0</td>\n",
       "      <td>0.0</td>\n",
       "      <td>0.0</td>\n",
       "      <td>0.0</td>\n",
       "      <td>0.0</td>\n",
       "      <td>4</td>\n",
       "    </tr>\n",
       "  </tbody>\n",
       "</table>\n",
       "<p>5 rows × 188 columns</p>\n",
       "</div>"
      ],
      "text/plain": [
       "           0         1         2         3         4         5         6    \\\n",
       "388   1.000000  0.839590  0.261092  0.010239  0.155290  0.230375  0.247440   \n",
       "898   0.816547  0.381295  0.089928  0.212230  0.219424  0.219424  0.208633   \n",
       "2229  0.000000  0.005398  0.175439  0.425101  0.565452  0.542510  0.550607   \n",
       "2543  1.000000  0.782934  0.532934  0.264970  0.094311  0.109281  0.104790   \n",
       "3168  1.000000  0.813953  0.465116  0.182724  0.056478  0.073090  0.073090   \n",
       "\n",
       "           7         8         9    ...  178  179  180  181  182  183  184  \\\n",
       "388   0.271331  0.284983  0.273038  ...  0.0  0.0  0.0  0.0  0.0  0.0  0.0   \n",
       "898   0.212230  0.205036  0.223022  ...  0.0  0.0  0.0  0.0  0.0  0.0  0.0   \n",
       "2229  0.631579  0.663968  0.647773  ...  0.0  0.0  0.0  0.0  0.0  0.0  0.0   \n",
       "2543  0.076347  0.064371  0.052395  ...  0.0  0.0  0.0  0.0  0.0  0.0  0.0   \n",
       "3168  0.076412  0.076412  0.076412  ...  0.0  0.0  0.0  0.0  0.0  0.0  0.0   \n",
       "\n",
       "      185  186  187  \n",
       "388   0.0  0.0    0  \n",
       "898   0.0  0.0    1  \n",
       "2229  0.0  0.0    2  \n",
       "2543  0.0  0.0    3  \n",
       "3168  0.0  0.0    4  \n",
       "\n",
       "[5 rows x 188 columns]"
      ]
     },
     "execution_count": 28,
     "metadata": {},
     "output_type": "execute_result"
    }
   ],
   "source": [
    "# One row from every class \n",
    "uni_cls = train_new.groupby(187, group_keys=False).apply(lambda train_new: train_new.sample(1))\n",
    "uni_cls"
   ]
  },
  {
   "cell_type": "code",
   "execution_count": 29,
   "metadata": {},
   "outputs": [
    {
     "data": {
      "text/plain": [
       "Text(0.5, 1.0, 'ECG of Unique Five Classes')"
      ]
     },
     "execution_count": 29,
     "metadata": {},
     "output_type": "execute_result"
    },
    {
     "data": {
      "image/png": "[encoded data removed]",
      "text/plain": [
       "<Figure size 864x432 with 1 Axes>"
      ]
     },
     "metadata": {
      "needs_background": "light"
     },
     "output_type": "display_data"
    }
   ],
   "source": [
    "plt.figure(figsize=(12,6))\n",
    "plt.plot(uni_cls.iloc[0, :186], label='0', color='red')\n",
    "plt.plot(uni_cls.iloc[1, :186], label='1', color='green')\n",
    "plt.plot(uni_cls.iloc[2, :186], label='2', color='black')\n",
    "plt.plot(uni_cls.iloc[3, :186], label='3', color='yellow')\n",
    "plt.plot(uni_cls.iloc[4, :186], label='4', color='orange')\n",
    "plt.legend()\n",
    "plt.title(\"ECG of Unique Five Classes\")"
   ]
  },
  {
   "cell_type": "code",
   "execution_count": null,
   "metadata": {},
   "outputs": [],
   "source": []
  },
  {
   "cell_type": "markdown",
   "metadata": {},
   "source": [
    "# Shuffle Dataset"
   ]
  },
  {
   "cell_type": "code",
   "execution_count": 30,
   "metadata": {},
   "outputs": [],
   "source": [
    "train_new = train_new.sample(frac=1).reset_index(drop=True)\n",
    "test_new = test.sample(frac=1).reset_index(drop=True) "
   ]
  },
  {
   "cell_type": "code",
   "execution_count": 31,
   "metadata": {},
   "outputs": [
    {
     "name": "stdout",
     "output_type": "stream",
     "text": [
      "Train data shape : (3841, 188) Test data shape : (21892, 188)\n"
     ]
    }
   ],
   "source": [
    "print(\"Train data shape : {} Test data shape : {}\".format(train_new.shape, test_new.shape))"
   ]
  },
  {
   "cell_type": "markdown",
   "metadata": {},
   "source": [
    "# Features and Label"
   ]
  },
  {
   "cell_type": "code",
   "execution_count": 32,
   "metadata": {},
   "outputs": [],
   "source": [
    "# For training and validation\n",
    "X = train_new.drop(187, axis=1)\n",
    "y = train_new[187] \n",
    "\n",
    "# For Testing\n",
    "x_test = test_new.drop(187, axis=1)\n",
    "y_test = test_new[187] "
   ]
  },
  {
   "cell_type": "code",
   "execution_count": 33,
   "metadata": {},
   "outputs": [
    {
     "name": "stdout",
     "output_type": "stream",
     "text": [
      "(3841, 187) (3841,) (21892, 187) (21892,)\n"
     ]
    }
   ],
   "source": [
    "print(X.shape, y.shape, x_test.shape, y_test.shape)"
   ]
  },
  {
   "cell_type": "markdown",
   "metadata": {},
   "source": [
    "# Train, Valid dataset"
   ]
  },
  {
   "cell_type": "code",
   "execution_count": 34,
   "metadata": {},
   "outputs": [],
   "source": [
    "x_train, x_valid, y_train, y_valid = train_test_split(X, y, test_size=.1, random_state=42, stratify=y)"
   ]
  },
  {
   "cell_type": "code",
   "execution_count": 35,
   "metadata": {},
   "outputs": [
    {
     "name": "stdout",
     "output_type": "stream",
     "text": [
      "(3456, 187) (385, 187) (3456,) (385,)\n"
     ]
    }
   ],
   "source": [
    "print(x_train.shape, x_valid.shape, y_train.shape, y_valid.shape)"
   ]
  },
  {
   "cell_type": "markdown",
   "metadata": {},
   "source": [
    "# Normalize and Standardize"
   ]
  },
  {
   "cell_type": "code",
   "execution_count": 36,
   "metadata": {},
   "outputs": [],
   "source": [
    "# Data Normalize\n",
    "scaler = MinMaxScaler()\n",
    "normalized_xtrain = scaler.fit_transform(x_train)\n",
    "#normalized_xtest = scaler.fit_transform(x_valid)\n",
    "\n",
    "\n",
    "# Data Standardize\n",
    "std = StandardScaler()\n",
    "standardized_xtrain = scaler.fit_transform(normalized_xtrain)\n",
    "#standardized_xtest = scaler.fit_transform(normalized_xtest)"
   ]
  },
  {
   "cell_type": "code",
   "execution_count": null,
   "metadata": {},
   "outputs": [],
   "source": []
  },
  {
   "cell_type": "markdown",
   "metadata": {},
   "source": [
    "# Reshaping dataset for Convolutional Layer"
   ]
  },
  {
   "cell_type": "code",
   "execution_count": 58,
   "metadata": {},
   "outputs": [],
   "source": [
    "X_train = np.array(x_train).reshape(x_train.shape[0], x_train.shape[1], 1)\n",
    "X_valid = np.array(x_valid).reshape(x_valid.shape[0], x_valid.shape[1], 1)\n",
    "X_test = np.array(x_test).reshape(x_test.shape[0], x_test.shape[1], 1)\n",
    "#y_train_ohe = to_categorical(y_train, num_classes=5)\n",
    "#y_valid_ohe = to_categorical(y_valid, num_classes=5)\n",
    "#y_test_ohe = to_categorical(y_test, num_classes=5)"
   ]
  },
  {
   "cell_type": "code",
   "execution_count": 56,
   "metadata": {},
   "outputs": [
    {
     "name": "stdout",
     "output_type": "stream",
     "text": [
      "(3456, 187, 1) (385, 187, 1) (3456,) (385,)\n"
     ]
    }
   ],
   "source": [
    "print(X_train.shape, X_valid.shape, y_train.shape, y_valid.shape)\n"
   ]
  },
  {
   "cell_type": "code",
   "execution_count": null,
   "metadata": {},
   "outputs": [],
   "source": []
  },
  {
   "cell_type": "markdown",
   "metadata": {},
   "source": [
    "# Model"
   ]
  },
  {
   "cell_type": "code",
   "execution_count": 39,
   "metadata": {},
   "outputs": [],
   "source": [
    "model = Sequential()\n",
    "model.add(Conv1D(filters=32, kernel_size=(5,), padding='same', activation=LeakyReLU(alpha=0.001), input_shape=(X_train.shape[1], 1) ))\n",
    "model.add(Conv1D(filters=64, kernel_size=(5,), padding='same', activation=LeakyReLU(alpha=0.001) ))\n",
    "model.add(Conv1D(filters=128, kernel_size=(5,), padding='same', activation=LeakyReLU(alpha=0.001) ))\n",
    "model.add(MaxPool1D(pool_size=(5,), strides=2, padding='same' ))\n",
    "model.add(Dropout(0.5))\n",
    "model.add(Flatten())\n",
    "model.add(Dense(units=512, activation=LeakyReLU(alpha=0.001) ))\n",
    "model.add(Dense(units=1024, activation=LeakyReLU(alpha=0.001) ))\n",
    "model.add(Dense(5, activation='softmax'))\n"
   ]
  },
  {
   "cell_type": "code",
   "execution_count": 40,
   "metadata": {},
   "outputs": [
    {
     "name": "stdout",
     "output_type": "stream",
     "text": [
      "Model: \"sequential\"\n",
      "_________________________________________________________________\n",
      "Layer (type)                 Output Shape              Param #   \n",
      "=================================================================\n",
      "conv1d (Conv1D)              (None, 187, 32)           192       \n",
      "_________________________________________________________________\n",
      "conv1d_1 (Conv1D)            (None, 187, 64)           10304     \n",
      "_________________________________________________________________\n",
      "conv1d_2 (Conv1D)            (None, 187, 128)          41088     \n",
      "_________________________________________________________________\n",
      "max_pooling1d (MaxPooling1D) (None, 94, 128)           0         \n",
      "_________________________________________________________________\n",
      "dropout (Dropout)            (None, 94, 128)           0         \n",
      "_________________________________________________________________\n",
      "flatten (Flatten)            (None, 12032)             0         \n",
      "_________________________________________________________________\n",
      "dense (Dense)                (None, 512)               6160896   \n",
      "_________________________________________________________________\n",
      "dense_1 (Dense)              (None, 1024)              525312    \n",
      "_________________________________________________________________\n",
      "dense_2 (Dense)              (None, 5)                 5125      \n",
      "=================================================================\n",
      "Total params: 6,742,917\n",
      "Trainable params: 6,742,917\n",
      "Non-trainable params: 0\n",
      "_________________________________________________________________\n"
     ]
    }
   ],
   "source": [
    "model.summary()"
   ]
  },
  {
   "cell_type": "code",
   "execution_count": 41,
   "metadata": {},
   "outputs": [],
   "source": [
    "model.compile(optimizer='adam',\n",
    "              loss='sparse_categorical_crossentropy',\n",
    "              metrics=['accuracy'])\n"
   ]
  },
  {
   "cell_type": "code",
   "execution_count": 42,
   "metadata": {},
   "outputs": [],
   "source": [
    "def scheduler(epoch, lr):\n",
    "    if epoch < 10:\n",
    "        return lr\n",
    "    else:\n",
    "        return lr * tensorflow.math.exp(-.1) \n",
    "\n",
    "\n",
    "callback = [ \n",
    "            EarlyStopping(monitor='val_loss',\n",
    "                          patience=3,\n",
    "                          mode='auto'\n",
    "                         ),\n",
    "            ModelCheckpoint(filepath='best_model.h5', \n",
    "                            monitor='val_loss', \n",
    "                            save_best_only=True\n",
    "                           ),\n",
    "            LearningRateScheduler(scheduler\n",
    "                                  )\n",
    "            ]\n"
   ]
  },
  {
   "cell_type": "code",
   "execution_count": 43,
   "metadata": {},
   "outputs": [
    {
     "name": "stdout",
     "output_type": "stream",
     "text": [
      "Epoch 1/30\n",
      "27/27 [==============================] - 3s 124ms/step - loss: 1.1219 - accuracy: 0.5417 - val_loss: 0.8804 - val_accuracy: 0.6302\n",
      "Epoch 2/30\n",
      "27/27 [==============================] - 3s 109ms/step - loss: 0.7376 - accuracy: 0.7153 - val_loss: 0.6417 - val_accuracy: 0.7448\n",
      "Epoch 3/30\n",
      "27/27 [==============================] - 3s 111ms/step - loss: 0.5667 - accuracy: 0.7824 - val_loss: 0.6047 - val_accuracy: 0.7760\n",
      "Epoch 4/30\n",
      "27/27 [==============================] - 3s 108ms/step - loss: 0.5518 - accuracy: 0.7951 - val_loss: 0.5063 - val_accuracy: 0.7917\n",
      "Epoch 5/30\n",
      "27/27 [==============================] - 3s 106ms/step - loss: 0.4632 - accuracy: 0.8310 - val_loss: 0.4914 - val_accuracy: 0.8021\n",
      "Epoch 6/30\n",
      "27/27 [==============================] - 3s 111ms/step - loss: 0.4447 - accuracy: 0.8333 - val_loss: 0.4635 - val_accuracy: 0.8438\n",
      "Epoch 7/30\n",
      "27/27 [==============================] - 2s 81ms/step - loss: 0.4651 - accuracy: 0.8333 - val_loss: 0.4885 - val_accuracy: 0.8073\n",
      "Epoch 8/30\n",
      "27/27 [==============================] - 2s 78ms/step - loss: 0.3548 - accuracy: 0.8576 - val_loss: 0.4932 - val_accuracy: 0.8177\n",
      "Epoch 9/30\n",
      "27/27 [==============================] - 3s 103ms/step - loss: 0.3523 - accuracy: 0.8727 - val_loss: 0.4590 - val_accuracy: 0.8333\n",
      "Epoch 10/30\n",
      "27/27 [==============================] - 2s 76ms/step - loss: 0.3329 - accuracy: 0.8785 - val_loss: 0.4617 - val_accuracy: 0.8490\n",
      "Epoch 11/30\n",
      "27/27 [==============================] - 2s 80ms/step - loss: 0.3123 - accuracy: 0.8877 - val_loss: 0.4598 - val_accuracy: 0.7969\n",
      "Epoch 12/30\n",
      "27/27 [==============================] - 2s 78ms/step - loss: 0.3436 - accuracy: 0.8669 - val_loss: 0.4844 - val_accuracy: 0.7969\n"
     ]
    }
   ],
   "source": [
    "history = model.fit(X_train, y_train, \n",
    "                    batch_size=32,\n",
    "                    steps_per_epoch=len(X_train) // 128,\n",
    "                    epochs=30,\n",
    "                    callbacks=callback,\n",
    "                    validation_data=(X_valid, y_valid),\n",
    "                    validation_steps=len(X_valid) // 64,\n",
    "                    )"
   ]
  },
  {
   "cell_type": "code",
   "execution_count": null,
   "metadata": {},
   "outputs": [],
   "source": []
  },
  {
   "cell_type": "markdown",
   "metadata": {},
   "source": [
    "# Accuracy and Loss Graph"
   ]
  },
  {
   "cell_type": "code",
   "execution_count": 44,
   "metadata": {},
   "outputs": [
    {
     "data": {
      "image/png": "[encoded data removed]",
      "text/plain": [
       "<Figure size 432x288 with 1 Axes>"
      ]
     },
     "metadata": {
      "needs_background": "light"
     },
     "output_type": "display_data"
    },
    {
     "data": {
      "image/png": "[encoded data removed]",
      "text/plain": [
       "<Figure size 432x288 with 1 Axes>"
      ]
     },
     "metadata": {
      "needs_background": "light"
     },
     "output_type": "display_data"
    }
   ],
   "source": [
    "accuracy = history.history['accuracy']\n",
    "val_accuracy = history.history['val_accuracy']\n",
    "\n",
    "loss = history.history['loss']\n",
    "val_loss = history.history['val_loss']\n",
    "\n",
    "epochs = range(len(val_accuracy))\n",
    "plt.plot(epochs, accuracy, 'go', label='Training accuracy')\n",
    "plt.plot(epochs, val_accuracy, 'b', label='Validation accuracy')\n",
    "plt.title('Training and validation accuracy')\n",
    "plt.legend()\n",
    "plt.figure()\n",
    "plt.plot(epochs, loss, 'go', label='Training loss')\n",
    "plt.plot(epochs, val_loss, 'g', label='validation loss')\n",
    "plt.title('training and validation loss')\n",
    "plt.legend()\n",
    "plt.show()"
   ]
  },
  {
   "cell_type": "markdown",
   "metadata": {},
   "source": [
    "# Model Evaluate"
   ]
  },
  {
   "cell_type": "code",
   "execution_count": 45,
   "metadata": {},
   "outputs": [
    {
     "name": "stdout",
     "output_type": "stream",
     "text": [
      "685/685 - 10s - loss: 0.5108 - accuracy: 0.8187\n"
     ]
    },
    {
     "data": {
      "text/plain": [
       "[0.5108053684234619, 0.818700909614563]"
      ]
     },
     "execution_count": 45,
     "metadata": {},
     "output_type": "execute_result"
    }
   ],
   "source": [
    "model.evaluate(X_test, y_test.values, verbose=2)"
   ]
  },
  {
   "cell_type": "markdown",
   "metadata": {},
   "source": [
    "# Predict with test dataset"
   ]
  },
  {
   "cell_type": "code",
   "execution_count": 46,
   "metadata": {},
   "outputs": [],
   "source": [
    "y_predicted = model.predict(X_test)"
   ]
  },
  {
   "cell_type": "markdown",
   "metadata": {},
   "source": [
    "# Classification Report"
   ]
  },
  {
   "cell_type": "code",
   "execution_count": 47,
   "metadata": {},
   "outputs": [],
   "source": [
    "y_test_ohe = to_categorical(y_test)\n",
    "#y_test_ohe"
   ]
  },
  {
   "cell_type": "code",
   "execution_count": 48,
   "metadata": {},
   "outputs": [
    {
     "name": "stdout",
     "output_type": "stream",
     "text": [
      "              precision    recall  f1-score   support\n",
      "\n",
      "           0       0.99      0.77      0.86     18118\n",
      "           1       0.15      0.82      0.26       556\n",
      "           2       0.90      0.73      0.81      1448\n",
      "           3       0.44      0.72      0.55       162\n",
      "           4       0.82      0.96      0.89      1608\n",
      "\n",
      "   micro avg       0.84      0.78      0.81     21892\n",
      "   macro avg       0.66      0.80      0.67     21892\n",
      "weighted avg       0.94      0.78      0.84     21892\n",
      " samples avg       0.78      0.78      0.78     21892\n",
      "\n"
     ]
    }
   ],
   "source": [
    "# Classification Report\n",
    "print(classification_report(y_test_ohe, y_predicted.round())) "
   ]
  },
  {
   "cell_type": "markdown",
   "metadata": {},
   "source": [
    "# Confusion Matrix"
   ]
  },
  {
   "cell_type": "code",
   "execution_count": 56,
   "metadata": {},
   "outputs": [
    {
     "data": {
      "text/plain": [
       "array([[1., 0., 0., 0., 0.],\n",
       "       [1., 0., 0., 0., 0.],\n",
       "       [1., 0., 0., 0., 0.],\n",
       "       ...,\n",
       "       [1., 0., 0., 0., 0.],\n",
       "       [1., 0., 0., 0., 0.],\n",
       "       [1., 0., 0., 0., 0.]], dtype=float32)"
      ]
     },
     "execution_count": 56,
     "metadata": {},
     "output_type": "execute_result"
    }
   ],
   "source": [
    "pred = y_predicted.round()\n",
    "pred"
   ]
  },
  {
   "cell_type": "code",
   "execution_count": 57,
   "metadata": {},
   "outputs": [],
   "source": [
    "p = []\n",
    "for i in range(len(pred)):\n",
    "    p.append(np.argmax(pred[i]))"
   ]
  },
  {
   "cell_type": "code",
   "execution_count": 58,
   "metadata": {},
   "outputs": [
    {
     "data": {
      "image/png": "[encoded data removed]",
      "text/plain": [
       "<Figure size 504x504 with 2 Axes>"
      ]
     },
     "metadata": {
      "needs_background": "light"
     },
     "output_type": "display_data"
    }
   ],
   "source": [
    "cm = confusion_matrix(y_test, p)\n",
    "plt.figure(figsize=(7,7))\n",
    "sns.heatmap(cm, fmt='.0f', annot=True, linewidths=0.2, linecolor='purple')\n",
    "plt.xlabel('predicted value')\n",
    "plt.ylabel('Truth value')\n",
    "plt.show()"
   ]
  },
  {
   "cell_type": "markdown",
   "metadata": {},
   "source": [
    "# Roc Auc Score"
   ]
  },
  {
   "cell_type": "code",
   "execution_count": 59,
   "metadata": {},
   "outputs": [
    {
     "data": {
      "text/plain": [
       "array([0, 0, 0, ..., 0, 0, 0])"
      ]
     },
     "execution_count": 59,
     "metadata": {},
     "output_type": "execute_result"
    }
   ],
   "source": [
    "y_test_arr = y_test.values\n",
    "y_test_arr"
   ]
  },
  {
   "cell_type": "code",
   "execution_count": 60,
   "metadata": {},
   "outputs": [
    {
     "name": "stdout",
     "output_type": "stream",
     "text": [
      "Deep Learning: ROC AUC=0.966\n"
     ]
    }
   ],
   "source": [
    "# predict probabilities\n",
    "lr_probs = model.predict(X_test)\n",
    "\n",
    "# calculate scores\n",
    "lr_auc = roc_auc_score(y_test_arr, lr_probs, multi_class='ovr')\n",
    "\n",
    "# summarize scores\n",
    "print('Deep Learning: ROC AUC=%.3f' % (lr_auc))"
   ]
  },
  {
   "cell_type": "code",
   "execution_count": 61,
   "metadata": {},
   "outputs": [],
   "source": [
    "fpr = {}\n",
    "tpr = {}\n",
    "thresh = {}\n",
    "for i in range(5):\n",
    "    fpr[i], tpr[i], thresh[i] = roc_curve(y_test_arr, lr_probs[:,i], pos_label=i)\n"
   ]
  },
  {
   "cell_type": "code",
   "execution_count": null,
   "metadata": {},
   "outputs": [],
   "source": []
  },
  {
   "cell_type": "code",
   "execution_count": 62,
   "metadata": {},
   "outputs": [
    {
     "data": {
      "image/png": "[encoded data removed]",
      "text/plain": [
       "<Figure size 432x288 with 1 Axes>"
      ]
     },
     "metadata": {
      "needs_background": "light"
     },
     "output_type": "display_data"
    }
   ],
   "source": [
    "plt.plot(fpr[0], tpr[0], linestyle='--', color='orange', label='Class 0 vs Rest')\n",
    "plt.plot(fpr[1], tpr[1], linestyle='--', color='green', label='Class 1 vs Rest')\n",
    "plt.plot(fpr[2], tpr[2], linestyle='--', color='blue', label='Class 2 vs Rest')\n",
    "plt.plot(fpr[3], tpr[3], linestyle='--', color='red', label='Class 3 vs Rest')\n",
    "plt.plot(fpr[4], tpr[4], linestyle='--', color='yellow', label='Class 4 vs Rest')\n",
    "plt.title('Multiclass ROC curve')\n",
    "plt.xlabel('False Positive Rate')\n",
    "plt.ylabel('True Positive rate')\n",
    "plt.legend(loc='best')\n",
    "plt.savefig('Multiclass ROC', dpi=300)\n",
    "\n"
   ]
  },
  {
   "cell_type": "code",
   "execution_count": null,
   "metadata": {},
   "outputs": [],
   "source": []
  },
  {
   "cell_type": "markdown",
   "metadata": {},
   "source": [
    "# Working with Normal and Abnormal"
   ]
  },
  {
   "cell_type": "code",
   "execution_count": 63,
   "metadata": {},
   "outputs": [
    {
     "name": "stdout",
     "output_type": "stream",
     "text": [
      "(14552, 188)\n"
     ]
    }
   ],
   "source": [
    "df = pd.concat([normal, abnormal], ignore_index=True)\n",
    "print(df.shape)"
   ]
  },
  {
   "cell_type": "code",
   "execution_count": 64,
   "metadata": {},
   "outputs": [
    {
     "data": {
      "text/plain": [
       "1    10506\n",
       "0     4046\n",
       "Name: 187, dtype: int64"
      ]
     },
     "execution_count": 64,
     "metadata": {},
     "output_type": "execute_result"
    }
   ],
   "source": [
    "df[187].value_counts()"
   ]
  },
  {
   "cell_type": "code",
   "execution_count": 65,
   "metadata": {},
   "outputs": [],
   "source": [
    "X = df.drop(187, axis=1)\n",
    "y = df[187]\n"
   ]
  },
  {
   "cell_type": "code",
   "execution_count": 66,
   "metadata": {},
   "outputs": [],
   "source": [
    "x_train, X_test, y_train, Y_test = train_test_split(X,y, test_size=.1, random_state=42, stratify=y)\n"
   ]
  },
  {
   "cell_type": "code",
   "execution_count": 67,
   "metadata": {},
   "outputs": [],
   "source": [
    "X_train, X_valid, Y_train, Y_valid = train_test_split(x_train, y_train, test_size=.1, random_state=42, stratify=y_train) "
   ]
  },
  {
   "cell_type": "code",
   "execution_count": null,
   "metadata": {},
   "outputs": [],
   "source": []
  },
  {
   "cell_type": "code",
   "execution_count": 68,
   "metadata": {},
   "outputs": [],
   "source": [
    "X_train = np.array(X_train).reshape(X_train.shape[0], X_train.shape[1], 1)\n",
    "X_valid = np.array(X_valid).reshape(X_valid.shape[0], X_valid.shape[1], 1)\n",
    "X_test = np.array(X_test).reshape(X_test.shape[0], X_test.shape[1], 1)\n",
    "\n",
    "#y_train_ohe = to_categorical(Y_train, num_classes=2)\n",
    "#y_valid_ohe = to_categorical(Y_valid, num_classes=2)\n",
    "#y_test_ohe = to_categorical(Y_test, num_classes=2)\n"
   ]
  },
  {
   "cell_type": "code",
   "execution_count": 69,
   "metadata": {},
   "outputs": [
    {
     "name": "stdout",
     "output_type": "stream",
     "text": [
      "(11786, 187, 1) (1310, 187, 1) (1456, 187, 1)\n",
      "(11786,) (1310,) (1456,)\n"
     ]
    }
   ],
   "source": [
    "print(X_train.shape, X_valid.shape, X_test.shape)\n",
    "print(Y_train.shape, Y_valid.shape, Y_test.shape)"
   ]
  },
  {
   "cell_type": "code",
   "execution_count": null,
   "metadata": {},
   "outputs": [],
   "source": []
  },
  {
   "cell_type": "code",
   "execution_count": 70,
   "metadata": {},
   "outputs": [],
   "source": [
    "model2 = Sequential()\n",
    "model2.add(Conv1D(filters=32, kernel_size=(5,), padding='same', activation=LeakyReLU(alpha=0.001), input_shape=(X_train.shape[1], 1) ))\n",
    "model2.add(Conv1D(filters=64, kernel_size=(5,), padding='same', activation=LeakyReLU(alpha=0.001) ))\n",
    "model2.add(Conv1D(filters=128, kernel_size=(5,), padding='same', activation=LeakyReLU(alpha=0.001) ))\n",
    "model2.add(MaxPool1D(pool_size=(5,), strides=2, padding='same' ))\n",
    "model2.add(Dropout(0.5))\n",
    "model2.add(Flatten())\n",
    "model2.add(Dense(units=512, activation=LeakyReLU(alpha=0.001) ))\n",
    "model2.add(Dense(units=1024, activation=LeakyReLU(alpha=0.001) ))\n",
    "model2.add(Dense(2, activation='softmax'))\n"
   ]
  },
  {
   "cell_type": "code",
   "execution_count": 71,
   "metadata": {},
   "outputs": [
    {
     "name": "stdout",
     "output_type": "stream",
     "text": [
      "Model: \"sequential_1\"\n",
      "_________________________________________________________________\n",
      "Layer (type)                 Output Shape              Param #   \n",
      "=================================================================\n",
      "conv1d_3 (Conv1D)            (None, 187, 32)           192       \n",
      "_________________________________________________________________\n",
      "conv1d_4 (Conv1D)            (None, 187, 64)           10304     \n",
      "_________________________________________________________________\n",
      "conv1d_5 (Conv1D)            (None, 187, 128)          41088     \n",
      "_________________________________________________________________\n",
      "max_pooling1d_1 (MaxPooling1 (None, 94, 128)           0         \n",
      "_________________________________________________________________\n",
      "dropout_1 (Dropout)          (None, 94, 128)           0         \n",
      "_________________________________________________________________\n",
      "flatten_1 (Flatten)          (None, 12032)             0         \n",
      "_________________________________________________________________\n",
      "dense_3 (Dense)              (None, 512)               6160896   \n",
      "_________________________________________________________________\n",
      "dense_4 (Dense)              (None, 1024)              525312    \n",
      "_________________________________________________________________\n",
      "dense_5 (Dense)              (None, 2)                 2050      \n",
      "=================================================================\n",
      "Total params: 6,739,842\n",
      "Trainable params: 6,739,842\n",
      "Non-trainable params: 0\n",
      "_________________________________________________________________\n"
     ]
    }
   ],
   "source": [
    "model2.summary()"
   ]
  },
  {
   "cell_type": "code",
   "execution_count": 72,
   "metadata": {},
   "outputs": [],
   "source": [
    "model2.compile(optimizer='adam', \n",
    "              loss = 'sparse_categorical_crossentropy', \n",
    "              metrics=['accuracy'])\n"
   ]
  },
  {
   "cell_type": "code",
   "execution_count": 73,
   "metadata": {},
   "outputs": [],
   "source": [
    "def scheduler(epoch, lr):\n",
    "    if epoch < 10:\n",
    "        return lr\n",
    "    else:\n",
    "        return lr * tensorflow.math.exp(-.1) \n",
    "\n",
    "\n",
    "callback = [ \n",
    "            EarlyStopping(monitor='val_loss',\n",
    "                          patience=3,\n",
    "                          mode='auto'\n",
    "                         ),\n",
    "            ModelCheckpoint(filepath='best_model.h5', \n",
    "                            monitor='val_loss', \n",
    "                            save_best_only=True\n",
    "                           ),\n",
    "            LearningRateScheduler(scheduler\n",
    "                                  )\n",
    "            ]"
   ]
  },
  {
   "cell_type": "code",
   "execution_count": 74,
   "metadata": {},
   "outputs": [
    {
     "name": "stdout",
     "output_type": "stream",
     "text": [
      "Epoch 1/30\n",
      "368/368 [==============================] - 30s 81ms/step - loss: 0.2848 - accuracy: 0.8740 - val_loss: 0.1265 - val_accuracy: 0.9539\n",
      "Epoch 2/30\n",
      "368/368 [==============================] - 30s 83ms/step - loss: 0.1313 - accuracy: 0.9513 - val_loss: 0.0573 - val_accuracy: 0.9758\n",
      "Epoch 3/30\n",
      "368/368 [==============================] - 30s 83ms/step - loss: 0.0704 - accuracy: 0.9740 - val_loss: 0.0550 - val_accuracy: 0.9805\n",
      "Epoch 4/30\n",
      "368/368 [==============================] - 32s 88ms/step - loss: 0.0450 - accuracy: 0.9835 - val_loss: 0.0228 - val_accuracy: 0.9914\n",
      "Epoch 5/30\n",
      "368/368 [==============================] - 32s 87ms/step - loss: 0.0371 - accuracy: 0.9869 - val_loss: 0.0322 - val_accuracy: 0.9891\n",
      "Epoch 6/30\n",
      "368/368 [==============================] - 29s 78ms/step - loss: 0.0340 - accuracy: 0.9879 - val_loss: 0.0175 - val_accuracy: 0.9953\n",
      "Epoch 7/30\n",
      "368/368 [==============================] - 28s 77ms/step - loss: 0.0219 - accuracy: 0.9914 - val_loss: 0.0300 - val_accuracy: 0.9906\n",
      "Epoch 8/30\n",
      "368/368 [==============================] - 30s 81ms/step - loss: 0.0233 - accuracy: 0.9918 - val_loss: 0.0939 - val_accuracy: 0.9750\n",
      "Epoch 9/30\n",
      "368/368 [==============================] - 31s 84ms/step - loss: 0.0190 - accuracy: 0.9934 - val_loss: 0.0081 - val_accuracy: 0.9961\n",
      "Epoch 10/30\n",
      "368/368 [==============================] - 28s 77ms/step - loss: 0.0187 - accuracy: 0.9940 - val_loss: 0.0126 - val_accuracy: 0.9961\n",
      "Epoch 11/30\n",
      "368/368 [==============================] - 32s 86ms/step - loss: 0.0117 - accuracy: 0.9966 - val_loss: 0.0101 - val_accuracy: 0.9969\n",
      "Epoch 12/30\n",
      "368/368 [==============================] - 32s 86ms/step - loss: 0.0078 - accuracy: 0.9976 - val_loss: 0.0093 - val_accuracy: 0.9961\n"
     ]
    }
   ],
   "source": [
    "history = model2.fit(X_train, Y_train, \n",
    "                    batch_size=32,\n",
    "                    steps_per_epoch=len(X_train) // 32,\n",
    "                    epochs=30,\n",
    "                    callbacks=callback,\n",
    "                    validation_data=(X_valid, Y_valid),\n",
    "                    validation_steps=len(X_valid) // 32,\n",
    "                    )"
   ]
  },
  {
   "cell_type": "markdown",
   "metadata": {},
   "source": [
    "# Accuracy and Loss Graph"
   ]
  },
  {
   "cell_type": "code",
   "execution_count": 75,
   "metadata": {},
   "outputs": [
    {
     "data": {
      "image/png": "[encoded data removed]",
      "text/plain": [
       "<Figure size 432x288 with 1 Axes>"
      ]
     },
     "metadata": {
      "needs_background": "light"
     },
     "output_type": "display_data"
    },
    {
     "data": {
      "image/png": "[encoded data removed]",
      "text/plain": [
       "<Figure size 432x288 with 1 Axes>"
      ]
     },
     "metadata": {
      "needs_background": "light"
     },
     "output_type": "display_data"
    }
   ],
   "source": [
    "accuracy = history.history['accuracy']\n",
    "val_accuracy = history.history['val_accuracy']\n",
    "\n",
    "loss = history.history['loss']\n",
    "val_loss = history.history['val_loss']\n",
    "\n",
    "epochs = range(len(val_accuracy))\n",
    "plt.plot(epochs, accuracy, 'go', label='Training accuracy')\n",
    "plt.plot(epochs, val_accuracy, 'b', label='Validation accuracy')\n",
    "plt.title('Training and validation accuracy')\n",
    "plt.legend()\n",
    "plt.figure()\n",
    "plt.plot(epochs, loss, 'go', label='Training loss')\n",
    "plt.plot(epochs, val_loss, 'b', label='validation loss')\n",
    "plt.title('training and validation loss')\n",
    "plt.legend()\n",
    "plt.show()"
   ]
  },
  {
   "cell_type": "markdown",
   "metadata": {},
   "source": [
    "# Model Evaluation"
   ]
  },
  {
   "cell_type": "code",
   "execution_count": 76,
   "metadata": {},
   "outputs": [
    {
     "name": "stdout",
     "output_type": "stream",
     "text": [
      "46/46 - 1s - loss: 0.0300 - accuracy: 0.9931\n"
     ]
    },
    {
     "data": {
      "text/plain": [
       "[0.030004139989614487, 0.9931318759918213]"
      ]
     },
     "execution_count": 76,
     "metadata": {},
     "output_type": "execute_result"
    }
   ],
   "source": [
    "model2.evaluate(X_test, Y_test.values, verbose=2)"
   ]
  },
  {
   "cell_type": "markdown",
   "metadata": {},
   "source": [
    "# Prediction with test data"
   ]
  },
  {
   "cell_type": "code",
   "execution_count": 77,
   "metadata": {},
   "outputs": [],
   "source": [
    "predicted = model2.predict(X_test) "
   ]
  },
  {
   "cell_type": "markdown",
   "metadata": {},
   "source": [
    "# Classification Report"
   ]
  },
  {
   "cell_type": "code",
   "execution_count": 78,
   "metadata": {},
   "outputs": [
    {
     "data": {
      "text/plain": [
       "array([[1., 0.],\n",
       "       [1., 0.],\n",
       "       [0., 1.],\n",
       "       ...,\n",
       "       [0., 1.],\n",
       "       [0., 1.],\n",
       "       [0., 1.]], dtype=float32)"
      ]
     },
     "execution_count": 78,
     "metadata": {},
     "output_type": "execute_result"
    }
   ],
   "source": [
    "Y_test_ohe = to_categorical(Y_test)\n",
    "Y_test_ohe"
   ]
  },
  {
   "cell_type": "code",
   "execution_count": 79,
   "metadata": {},
   "outputs": [
    {
     "name": "stdout",
     "output_type": "stream",
     "text": [
      "              precision    recall  f1-score   support\n",
      "\n",
      "           0       0.99      0.99      0.99       405\n",
      "           1       1.00      1.00      1.00      1051\n",
      "\n",
      "   micro avg       0.99      0.99      0.99      1456\n",
      "   macro avg       0.99      0.99      0.99      1456\n",
      "weighted avg       0.99      0.99      0.99      1456\n",
      " samples avg       0.99      0.99      0.99      1456\n",
      "\n"
     ]
    }
   ],
   "source": [
    "print(classification_report(Y_test_ohe, predicted.round() )) "
   ]
  },
  {
   "cell_type": "markdown",
   "metadata": {},
   "source": [
    "# Confusion Matrix"
   ]
  },
  {
   "cell_type": "code",
   "execution_count": 82,
   "metadata": {},
   "outputs": [],
   "source": [
    "p2 = []\n",
    "for i in range(len(Y_test)):\n",
    "    p2.append(np.argmax(predicted[i]))\n",
    "    "
   ]
  },
  {
   "cell_type": "code",
   "execution_count": 83,
   "metadata": {},
   "outputs": [
    {
     "data": {
      "image/png": "[encoded data removed]",
      "text/plain": [
       "<Figure size 504x504 with 2 Axes>"
      ]
     },
     "metadata": {
      "needs_background": "light"
     },
     "output_type": "display_data"
    }
   ],
   "source": [
    "cm = confusion_matrix(Y_test, p2)\n",
    "plt.figure(figsize=(7,7))\n",
    "sns.heatmap(cm, fmt='.0f', annot=True, linewidths=0.2, linecolor='purple')\n",
    "plt.xlabel('predicted value')\n",
    "plt.ylabel('Truth value')\n",
    "plt.show()"
   ]
  },
  {
   "cell_type": "markdown",
   "metadata": {},
   "source": [
    "# Roc Auc Score and Graph"
   ]
  },
  {
   "cell_type": "code",
   "execution_count": 84,
   "metadata": {},
   "outputs": [
    {
     "name": "stdout",
     "output_type": "stream",
     "text": [
      "No Skill: ROC AUC=0.500\n",
      "Deep Learning: ROC AUC=0.991\n"
     ]
    }
   ],
   "source": [
    "ns_probs = [0 for _ in range(len(Y_test))]\n",
    "# predict probabilities\n",
    "#lr_probs = model2.predict(X_test)\n",
    "\n",
    "# keep probabilities for the positive outcome only\n",
    "lr_probs = p2 #lr_probs[:, 1]\n",
    "\n",
    "# calculate scores\n",
    "ns_auc = roc_auc_score(Y_test, ns_probs)\n",
    "lr_auc = roc_auc_score(Y_test, lr_probs)\n",
    "\n",
    "# summarize scores\n",
    "print('No Skill: ROC AUC=%.3f' % (ns_auc))\n",
    "print('Deep Learning: ROC AUC=%.3f' % (lr_auc))"
   ]
  },
  {
   "cell_type": "code",
   "execution_count": 85,
   "metadata": {},
   "outputs": [],
   "source": [
    "# calculate roc curves\n",
    "ns_fpr, ns_tpr, _ = roc_curve(Y_test, ns_probs)\n",
    "lr_fpr, lr_tpr, _ = roc_curve(Y_test, lr_probs)"
   ]
  },
  {
   "cell_type": "code",
   "execution_count": 86,
   "metadata": {},
   "outputs": [
    {
     "data": {
      "image/png": "[encoded data removed]",
      "text/plain": [
       "<Figure size 432x288 with 1 Axes>"
      ]
     },
     "metadata": {
      "needs_background": "light"
     },
     "output_type": "display_data"
    }
   ],
   "source": [
    "# plot the roc curve for the model\n",
    "plt.plot(ns_fpr, ns_tpr, linestyle='--', label='No Skill')\n",
    "plt.plot(lr_fpr, lr_tpr, marker='.', label='Logistic')\n",
    "# axis labels\n",
    "plt.xlabel('False Positive Rate')\n",
    "plt.ylabel('True Positive Rate')\n",
    "# show the legend\n",
    "plt.legend()\n",
    "# show the plot\n",
    "plt.show()"
   ]
  },
  {
   "cell_type": "code",
   "execution_count": null,
   "metadata": {},
   "outputs": [],
   "source": []
  }
 ],
 "metadata": {
  "kernelspec": {
   "display_name": "Python 3",
   "language": "python",
   "name": "python3"
  },
  "language_info": {
   "codemirror_mode": {
    "name": "ipython",
    "version": 3
   },
   "file_extension": ".py",
   "mimetype": "text/x-python",
   "name": "python",
   "nbconvert_exporter": "python",
   "pygments_lexer": "ipython3",
   "version": "3.8.2"
  }
 },
 "nbformat": 4,
 "nbformat_minor": 4
}
